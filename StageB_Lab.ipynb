{
  "cells": [
    {
      "cell_type": "markdown",
      "metadata": {
        "id": "view-in-github",
        "colab_type": "text"
      },
      "source": [
        "<a href=\"https://colab.research.google.com/github/akanbiabiodun25/Hamoye-166a464ba141f000/blob/main/StageB_Lab.ipynb\" target=\"_parent\"><img src=\"https://colab.research.google.com/assets/colab-badge.svg\" alt=\"Open In Colab\"/></a>"
      ]
    },
    {
      "cell_type": "code",
      "execution_count": 1,
      "id": "2822f3f5-7158-4b45-a405-3c4b9e27efb4",
      "metadata": {
        "id": "2822f3f5-7158-4b45-a405-3c4b9e27efb4"
      },
      "outputs": [],
      "source": [
        "%%capture\n",
        "# update or install the necessary libraries\n",
        "!pip install openai==v0.28.1\n",
        "!pip install --upgrade python-dotenv\n",
        "!pip install --upgrade langchain"
      ]
    },
    {
      "cell_type": "code",
      "execution_count": 2,
      "id": "4615570a-09c8-437d-8d9a-9b005497d813",
      "metadata": {
        "colab": {
          "base_uri": "https://localhost:8080/"
        },
        "id": "4615570a-09c8-437d-8d9a-9b005497d813",
        "outputId": "94e2bd0b-b59a-426e-f0ee-c7ec7567fd9a"
      },
      "outputs": [
        {
          "output_type": "stream",
          "name": "stdout",
          "text": [
            "Name: openai\n",
            "Version: 0.28.1\n",
            "Summary: Python client library for the OpenAI API\n",
            "Home-page: https://github.com/openai/openai-python\n",
            "Author: OpenAI\n",
            "Author-email: support@openai.com\n",
            "License: \n",
            "Location: /usr/local/lib/python3.10/dist-packages\n",
            "Requires: aiohttp, requests, tqdm\n",
            "Required-by: \n"
          ]
        }
      ],
      "source": [
        "pip show openai"
      ]
    },
    {
      "cell_type": "code",
      "execution_count": 3,
      "id": "2fad45cd-0be8-47ee-9e57-1802d6d06f3b",
      "metadata": {
        "id": "2fad45cd-0be8-47ee-9e57-1802d6d06f3b"
      },
      "outputs": [],
      "source": [
        "import openai\n",
        "import os\n",
        "import IPython\n",
        "from dotenv import load_dotenv"
      ]
    },
    {
      "cell_type": "code",
      "execution_count": 5,
      "id": "96adccf4-7b2c-4804-80cc-b29fbc4786ac",
      "metadata": {
        "id": "96adccf4-7b2c-4804-80cc-b29fbc4786ac"
      },
      "outputs": [],
      "source": [
        "load_dotenv()\n",
        "\n",
        "openai.api_key = os.getenv(\"OPENAI_API_KEY\")"
      ]
    },
    {
      "cell_type": "code",
      "execution_count": 6,
      "id": "4b454d8e-f811-4b99-8343-6e56e298b55c",
      "metadata": {
        "id": "4b454d8e-f811-4b99-8343-6e56e298b55c"
      },
      "outputs": [],
      "source": [
        "def set_open_params(\n",
        "    model=\"gpt-3.5-turbo-instruct\",\n",
        "    temperature=0.7,\n",
        "    max_tokens=256,\n",
        "    top_p=1,\n",
        "    frequency_penalty=0,\n",
        "    presence_penalty=0,\n",
        "):\n",
        "    \"\"\"set openai parameter\"\"\"\n",
        "    openai_params = {}\n",
        "\n",
        "    openai_params['model'] = model\n",
        "    openai_params['temperature'] = temperature\n",
        "    openai_params['max_tokens'] = max_tokens\n",
        "    openai_params['top_p'] = top_p\n",
        "    openai_params['frequency_penalty'] = frequency_penalty\n",
        "    openai_params['presence_penalty'] = presence_penalty\n",
        "    return openai_params\n",
        "\n",
        "def get_completion(params, prompt):\n",
        "    \"\"\"Get completion from openai api\"\"\"\n",
        "    response = openai.Completion.create(\n",
        "        engine = params['model'],\n",
        "        prompt = prompt,\n",
        "        temperature = params['temperature'],\n",
        "        max_tokens = params['max_tokens'],\n",
        "        top_p = params['top_p'],\n",
        "        frequency_penalty = params['frequency_penalty'],\n",
        "        presence_penalty = params['presence_penalty'],\n",
        "    )\n",
        "    return response"
      ]
    },
    {
      "cell_type": "code",
      "source": [
        "params = set_open_params()\n",
        "\n",
        "prompt = \"Roses are\"\n",
        "\n",
        "response = get_completion(params, prompt)"
      ],
      "metadata": {
        "id": "cJWmqibzTRHo"
      },
      "id": "cJWmqibzTRHo",
      "execution_count": 7,
      "outputs": []
    },
    {
      "cell_type": "code",
      "source": [
        "response.choices[0].text"
      ],
      "metadata": {
        "colab": {
          "base_uri": "https://localhost:8080/",
          "height": 574
        },
        "id": "EHyN2p_oXLBi",
        "outputId": "8a8edc94-1c44-4a16-f10b-b835cbf86a0a"
      },
      "id": "EHyN2p_oXLBi",
      "execution_count": 8,
      "outputs": [
        {
          "output_type": "execute_result",
          "data": {
            "text/plain": [
              "\" said to be the symbol of love and beauty. The red rose symbolizes passion and love while the white rose represents purity and innocence. The pink rose symbolizes admiration and appreciation, making it a popular choice for Mother's Day or to show gratitude to someone special.\\n\\nThe rose has been a popular flower in literature, art, and culture for centuries, with its beauty and symbolism heavily influencing its significance. In Greek and Roman mythology, the rose was associated with the goddess of love, Aphrodite (Venus). In Christianity, the rose is often associated with the Virgin Mary and represents purity and devotion.\\n\\nIn addition to its romantic symbolism, the rose also holds various meanings depending on its color. For example, a yellow rose can symbolize friendship, a peach rose represents gratitude, and a lavender rose can represent enchantment or love at first sight.\\n\\nIn Victorian times, the language of flowers was popular, and different types of flowers were used to send secret messages. The rose was often used to express love and affection, with different colors representing different levels of romantic interest or emotions. For example, a red rose symbolized true love, while a white rose symbolized a new beginning or innocence.\\n\\nToday, the rose remains a popular flower for special occasions such as Valentine's Day,\""
            ],
            "application/vnd.google.colaboratory.intrinsic+json": {
              "type": "string"
            }
          },
          "metadata": {},
          "execution_count": 8
        }
      ]
    },
    {
      "cell_type": "code",
      "source": [
        "IPython.display.Markdown(response.choices[0].text)"
      ],
      "metadata": {
        "colab": {
          "base_uri": "https://localhost:8080/",
          "height": 661
        },
        "id": "yz7TzyAIXbg6",
        "outputId": "d60d8e29-76a8-49d1-e1a2-787d55c1f2a6"
      },
      "id": "yz7TzyAIXbg6",
      "execution_count": 9,
      "outputs": [
        {
          "output_type": "execute_result",
          "data": {
            "text/plain": [
              "<IPython.core.display.Markdown object>"
            ],
            "text/markdown": " said to be the symbol of love and beauty. The red rose symbolizes passion and love while the white rose represents purity and innocence. The pink rose symbolizes admiration and appreciation, making it a popular choice for Mother's Day or to show gratitude to someone special.\n\nThe rose has been a popular flower in literature, art, and culture for centuries, with its beauty and symbolism heavily influencing its significance. In Greek and Roman mythology, the rose was associated with the goddess of love, Aphrodite (Venus). In Christianity, the rose is often associated with the Virgin Mary and represents purity and devotion.\n\nIn addition to its romantic symbolism, the rose also holds various meanings depending on its color. For example, a yellow rose can symbolize friendship, a peach rose represents gratitude, and a lavender rose can represent enchantment or love at first sight.\n\nIn Victorian times, the language of flowers was popular, and different types of flowers were used to send secret messages. The rose was often used to express love and affection, with different colors representing different levels of romantic interest or emotions. For example, a red rose symbolized true love, while a white rose symbolized a new beginning or innocence.\n\nToday, the rose remains a popular flower for special occasions such as Valentine's Day,"
          },
          "metadata": {},
          "execution_count": 9
        }
      ]
    },
    {
      "cell_type": "code",
      "source": [
        "params = set_open_params(temperature=0)\n",
        "prompt = \"Roses are\"\n",
        "response = get_completion(params, prompt)\n",
        "IPython.display.Markdown(response.choices[0].text)"
      ],
      "metadata": {
        "colab": {
          "base_uri": "https://localhost:8080/",
          "height": 383
        },
        "id": "LOfectRjXxEa",
        "outputId": "e35d8eeb-3f7a-4725-b3d9-d57b65ab180e"
      },
      "id": "LOfectRjXxEa",
      "execution_count": 10,
      "outputs": [
        {
          "output_type": "execute_result",
          "data": {
            "text/plain": [
              "<IPython.core.display.Markdown object>"
            ],
            "text/markdown": " red, violets are blue\nSugar is sweet, and so are you\nBut the roses wilt, and the violets fade\nBut my love for you will never degrade\n\nYou are my sunshine on a cloudy day\nMy guiding light when I lose my way\nWith you by my side, I can conquer all\nTogether we stand, we will never fall\n\nYour smile brightens up my darkest night\nYour touch fills me with pure delight\nI am grateful for every moment spent\nWith you, my love, my heart is content\n\nI promise to love you, through thick and thin\nTo be your rock, your shelter, your kin\nI'll hold your hand, and never let go\nTogether we'll face whatever life may throw\n\nSo here's my heart, my love, my all\nWith you, I'll stand tall, I'll never fall\nRoses may wither, and violets may die\nBut my love for you will never say goodbye."
          },
          "metadata": {},
          "execution_count": 10
        }
      ]
    },
    {
      "cell_type": "code",
      "execution_count": 11,
      "id": "bC-aVpzrP-Cr",
      "metadata": {
        "colab": {
          "base_uri": "https://localhost:8080/"
        },
        "id": "bC-aVpzrP-Cr",
        "outputId": "59757a8d-5cf2-4e61-e585-8aaa1f5c1ff2"
      },
      "outputs": [
        {
          "output_type": "stream",
          "name": "stdout",
          "text": [
            "\n",
            "\n",
            "Oh loyal and faithful canine friend,\n",
            "With paws that tread upon the land,\n",
            "Your wagging tail, your joyful bark,\n",
            "Brings warmth to hearts, a light in the dark.\n",
            "\n",
            "With eyes of brown, so full of love,\n",
            "You look upon us from above,\n",
            "Your fur, a soft and gentle coat,\n",
            "That we cannot help but stroke.\n",
            "\n",
            "Fierce protector, brave and true,\n",
            "Always there to see us through,\n",
            "With a bark that warns of danger near,\n",
            "And a snuggle to\n"
          ]
        }
      ],
      "source": [
        "\n",
        "prompt = \"Write a poem about a dog.\"\n",
        "response = openai.Completion.create(\n",
        "    engine=\"gpt-3.5-turbo-instruct\",  # Updated model name\n",
        "    prompt=prompt,\n",
        "    max_tokens=100,\n",
        "    n=1,\n",
        "    stop=None,\n",
        "    temperature=0.7,\n",
        ")\n",
        "\n",
        "print(response.choices[0].text)"
      ]
    },
    {
      "cell_type": "markdown",
      "source": [
        "Text Summarization"
      ],
      "metadata": {
        "id": "ngUt5zCGYJEI"
      },
      "id": "ngUt5zCGYJEI"
    },
    {
      "cell_type": "code",
      "source": [
        "params = set_open_params()\n",
        "prompt = \"\"\"Keras is a deep learning API written in Python that runs on top of TensorFlow.\n",
        "    It is quite popular among deep learning users because of its ease of use.\n",
        "    TensorFlow is an end-to-end open-source deep learning framework developed and maintained by Google.\n",
        "    Similar to Numpy, TensorFlow allows for mathematical computations and manipulation between numerical tensors, runs on CPUs, GPUs, and TPUs.\n",
        "    Keras was incorporated in TensorFlow 2.0 (the recent version) as tf.keras (high-level API) and can run on the aforementioned hardwares.\n",
        "    TensorFlow also allows for low-level operations with the TensorFlow Core API.\n",
        "\n",
        "    Explain the above in one sentence:\"\"\"\n",
        "response = get_completion(params, prompt)\n",
        "IPython.display.Markdown(response.choices[0].text)"
      ],
      "metadata": {
        "colab": {
          "base_uri": "https://localhost:8080/",
          "height": 116
        },
        "id": "OFZaBmjcX8Dg",
        "outputId": "b04e6cfe-c071-4daf-910a-2a67c93e39e0"
      },
      "id": "OFZaBmjcX8Dg",
      "execution_count": 12,
      "outputs": [
        {
          "output_type": "execute_result",
          "data": {
            "text/plain": [
              "<IPython.core.display.Markdown object>"
            ],
            "text/markdown": "\n\nKeras is a high-level deep learning API written in Python that runs on top of TensorFlow, an open-source deep learning framework that allows for mathematical computations on CPUs, GPUs, and TPUs."
          },
          "metadata": {},
          "execution_count": 12
        }
      ]
    },
    {
      "cell_type": "markdown",
      "source": [
        "Question Answering"
      ],
      "metadata": {
        "id": "cM1fRw9kYsyw"
      },
      "id": "cM1fRw9kYsyw"
    },
    {
      "cell_type": "code",
      "source": [
        "prompt = \"\"\"Answer the question based on the context below. Keep the answer short and concise. Respond \"Unsure about answer\" if not sure about the answer.\n",
        "\n",
        "Context: The Avengers were a team of extraordinary individuals, with either superpowers or other special characteristics. Though primarily affiliated with the interests of the United States of America, the group's purpose was to protect global stability from inner or extraterrestrial threats. The Avengers were first assembled by S.H.I.E.L.D. as a result of the Avengers Initiative, when Loki invaded Earth with his Chitauri army. The team, consisting of Iron Man, Captain America, Hulk, Thor, Black Widow and Hawkeye defeated Loki and went their separate ways for a while.\n",
        "\n",
        "Question: Why were the Avengers formed?\n",
        "\n",
        "Answer:\"\"\"\n",
        "\n",
        "response = get_completion(params, prompt)\n",
        "IPython.display.Markdown(response.choices[0].text)"
      ],
      "metadata": {
        "colab": {
          "base_uri": "https://localhost:8080/",
          "height": 64
        },
        "id": "NKhj4VJ8Ymty",
        "outputId": "ea5c8418-1d3e-4e39-8f68-3fb290c8b6ee"
      },
      "id": "NKhj4VJ8Ymty",
      "execution_count": 13,
      "outputs": [
        {
          "output_type": "execute_result",
          "data": {
            "text/plain": [
              "<IPython.core.display.Markdown object>"
            ],
            "text/markdown": " To protect global stability from inner or extraterrestrial threats."
          },
          "metadata": {},
          "execution_count": 13
        }
      ]
    },
    {
      "cell_type": "markdown",
      "source": [
        "Text Classfication"
      ],
      "metadata": {
        "id": "t42Yl7ubY6bl"
      },
      "id": "t42Yl7ubY6bl"
    },
    {
      "cell_type": "code",
      "source": [
        "prompt = \"\"\"Classify the text into neutral, negative or positive.\n",
        "\n",
        "Text: I think the Avengers Endgame was an interesting movie..\n",
        "\n",
        "Sentiment:\"\"\"\n",
        "\n",
        "response = get_completion(params, prompt)\n",
        "IPython.display.Markdown(response.choices[0].text)"
      ],
      "metadata": {
        "colab": {
          "base_uri": "https://localhost:8080/",
          "height": 46
        },
        "id": "pl7vbTw_ZC2c",
        "outputId": "ec5a61eb-f1d0-442d-9b29-a643f0c2f2bc"
      },
      "id": "pl7vbTw_ZC2c",
      "execution_count": 14,
      "outputs": [
        {
          "output_type": "execute_result",
          "data": {
            "text/plain": [
              "<IPython.core.display.Markdown object>"
            ],
            "text/markdown": " Positive"
          },
          "metadata": {},
          "execution_count": 14
        }
      ]
    },
    {
      "cell_type": "markdown",
      "source": [
        "Role Playing"
      ],
      "metadata": {
        "id": "X1pWN4XoZR5W"
      },
      "id": "X1pWN4XoZR5W"
    },
    {
      "cell_type": "code",
      "source": [
        "prompt = \"\"\"The following is a conversation with an AI research assistant. The assistant tone is technical and scientific.\n",
        "\n",
        "Human: Hello, who are you?\n",
        "AI: Greeting! I am an AI research assistant. How can I help you today?\n",
        "Human: Can you tell me about the big bang theory?\n",
        "AI:\"\"\"\n",
        "\n",
        "response = get_completion(params, prompt)\n",
        "IPython.display.Markdown(response.choices[0].text)"
      ],
      "metadata": {
        "colab": {
          "base_uri": "https://localhost:8080/",
          "height": 255
        },
        "id": "AkI7hb9oZTPP",
        "outputId": "7b289c1c-2dc1-45c8-ec91-f2414d69f6d8"
      },
      "id": "AkI7hb9oZTPP",
      "execution_count": 15,
      "outputs": [
        {
          "output_type": "execute_result",
          "data": {
            "text/plain": [
              "<IPython.core.display.Markdown object>"
            ],
            "text/markdown": " The big bang theory is a scientific model that explains the origin and evolution of the universe. It suggests that the universe began as a singularity, a point of infinite density and temperature, around 13.8 billion years ago. This singularity then expanded rapidly, creating space, time, and all matter and energy in the universe. The theory is supported by various observational and experimental evidence, such as the cosmic microwave background radiation and the observed expansion of the universe."
          },
          "metadata": {},
          "execution_count": 15
        }
      ]
    },
    {
      "cell_type": "markdown",
      "source": [
        "Code Generation"
      ],
      "metadata": {
        "id": "dOqZTV4NZyNR"
      },
      "id": "dOqZTV4NZyNR"
    },
    {
      "cell_type": "code",
      "source": [
        "\n",
        "prompt = \"\\\"\\\"\\\"\\nTable departments, columns = [DepartmentId, DepartmentName]\\nTable students, columns = [DepartmentId, StudentId, StudentName]\\nCreate a PostgreSQL query for all students in the Computer Science Department\\n\\\"\\\"\\\"\"\n",
        "\n",
        "response = get_completion(params, prompt)\n",
        "IPython.display.Markdown(response.choices[0].text)"
      ],
      "metadata": {
        "colab": {
          "base_uri": "https://localhost:8080/",
          "height": 98
        },
        "id": "x6ku6BQKZ0aG",
        "outputId": "a8a6b4ba-707d-43c6-9d61-d69e4d9c0825"
      },
      "id": "x6ku6BQKZ0aG",
      "execution_count": 16,
      "outputs": [
        {
          "output_type": "execute_result",
          "data": {
            "text/plain": [
              "<IPython.core.display.Markdown object>"
            ],
            "text/markdown": "\nSELECT StudentId, StudentName \nFROM students \nWHERE DepartmentId = (SELECT DepartmentId FROM departments WHERE DepartmentName = 'Computer Science');"
          },
          "metadata": {},
          "execution_count": 16
        }
      ]
    },
    {
      "cell_type": "markdown",
      "source": [
        "Reasoning"
      ],
      "metadata": {
        "id": "84HhAMb4aDd2"
      },
      "id": "84HhAMb4aDd2"
    },
    {
      "cell_type": "code",
      "source": [
        "prompt = \"\"\"The odd numbers in this group add up to an even number: 15, 32, 5, 13, 82, 7, 1.\n",
        "\n",
        "Solve by breaking the problem into steps. First, identify the odd numbers, add them, and indicate whether the result is odd or even.\"\"\"\n",
        "\n",
        "response = get_completion(params, prompt)\n",
        "IPython.display.Markdown(response.choices[0].text)"
      ],
      "metadata": {
        "colab": {
          "base_uri": "https://localhost:8080/",
          "height": 163
        },
        "id": "4LbvR5jyaFaJ",
        "outputId": "0c7d2f3a-570e-475c-943f-1f15494501c5"
      },
      "id": "4LbvR5jyaFaJ",
      "execution_count": 17,
      "outputs": [
        {
          "output_type": "execute_result",
          "data": {
            "text/plain": [
              "<IPython.core.display.Markdown object>"
            ],
            "text/markdown": "\n\nStep 1: Identify the odd numbers.\nThe odd numbers in this group are 15, 5, 13, 7, and 1.\n\nStep 2: Add the odd numbers.\n15 + 5 + 13 + 7 + 1 = 41\n\nStep 3: Determine if the result is odd or even.\nThe result, 41, is an odd number."
          },
          "metadata": {},
          "execution_count": 17
        }
      ]
    },
    {
      "cell_type": "markdown",
      "source": [
        "The Lab2 Code Ends Here!"
      ],
      "metadata": {
        "id": "TM0VJ_n7alWb"
      },
      "id": "TM0VJ_n7alWb"
    },
    {
      "cell_type": "code",
      "source": [],
      "metadata": {
        "id": "Xy9ftiUJakR_"
      },
      "id": "Xy9ftiUJakR_",
      "execution_count": null,
      "outputs": []
    },
    {
      "cell_type": "code",
      "source": [],
      "metadata": {
        "id": "zBhmYQ9IaafU"
      },
      "id": "zBhmYQ9IaafU",
      "execution_count": null,
      "outputs": []
    },
    {
      "cell_type": "code",
      "source": [],
      "metadata": {
        "id": "vQSztETpaaji"
      },
      "id": "vQSztETpaaji",
      "execution_count": null,
      "outputs": []
    },
    {
      "cell_type": "code",
      "source": [],
      "metadata": {
        "id": "1kUnL9CWaamN"
      },
      "id": "1kUnL9CWaamN",
      "execution_count": null,
      "outputs": []
    },
    {
      "cell_type": "code",
      "source": [
        "\n",
        "import openai\n",
        "\n",
        "\n",
        "prompt = \"\"\"Answer the question based on the context below. Keep the answer short and concise. Respond \"Unsure about answer\" if not sure about the answer.\n",
        "\n",
        "Context: The Avengers were a team of extraordinary individuals, with either superpowers or other special characteristics. Though primarily affiliated with the interests of the United States of America, the group's purpose was to protect global stability from inner or extraterrestrial threats. The Avengers were first assembled by S.H.I.E.L.D. as a result of the Avengers Initiative, when Loki invaded Earth with his Chitauri army. The team, consisting of Iron Man, Captain America, Hulk, Thor, Black Widow and Hawkeye defeated Loki and went their separate ways for a while.\n",
        "\n",
        "Question: Why were the Avengers formed?\n",
        "\n",
        "Answer:\"\"\"\n",
        "\n",
        "response = openai.Completion.create(\n",
        "    engine=\"gpt-3.5-turbo-instruct\",\n",
        "    prompt=prompt,\n",
        "    max_tokens=100,  # Set to 1 to get just the answer (optional)\n",
        "    n=1,\n",
        "    stop=None,\n",
        "    temperature=0.7  # Adjust temperature for desired creativity vs. informativeness (optional)\n",
        ")\n",
        "\n",
        "print(response.choices[0].text.strip())"
      ],
      "metadata": {
        "colab": {
          "base_uri": "https://localhost:8080/"
        },
        "id": "xsulywPKnASy",
        "outputId": "8ae79c8d-0b66-4e87-bbd3-3cce1074b26f"
      },
      "id": "xsulywPKnASy",
      "execution_count": null,
      "outputs": [
        {
          "output_type": "stream",
          "name": "stdout",
          "text": [
            "To protect global stability from inner or extraterrestrial threats.\n"
          ]
        }
      ]
    },
    {
      "cell_type": "code",
      "source": [
        "\n",
        "import os\n",
        "import openai\n",
        "\n",
        "# Install OpenAI library if not already present (use a safer method)\n",
        "try:\n",
        "    import subprocess\n",
        "    result = subprocess.run([\"pip\", \"show\", \"openai\"], capture_output=True)\n",
        "    if result.returncode != 0:  # Check if 'openai' is not installed\n",
        "        print(\"Installing OpenAI library...\")\n",
        "        subprocess.run([\"pip\", \"install\", \"openai\"])\n",
        "except FileNotFoundError:\n",
        "    print(\"Error: 'pip' command not found. Please install pip or manage dependencies manually.\")\n",
        "\n",
        "# Create the prompt\n",
        "prompt = \"\"\"Write a PostgreSQL query to select all students in the Computer Science department from a database with tables named 'departments' and 'students' with columns 'DepartmentId', 'DepartmentName', 'StudentId', and 'StudentName'.\"\"\"\n",
        "\n",
        "# Make the OpenAI request (handle potential errors gracefully)\n",
        "try:\n",
        "    response = openai.Completion.create(\n",
        "        engine=\"gpt-3.5-turbo-instruct\",  # Consider using text-davinci-003 for SQL tasks\n",
        "        prompt=prompt,\n",
        "        max_tokens=100,  # Adjust max_tokens as needed\n",
        "        n=1,\n",
        "        stop=None,\n",
        "        temperature=0.7,  # Control creativity vs. informativeness\n",
        "    )\n",
        "\n",
        "    print(\"OpenAI response:\")\n",
        "    print(response.choices[0].text.strip())  # Print the generated query, removing extra spaces\n",
        "except openai.error.OpenAIError as e:\n",
        "    print(f\"OpenAI API error: {e}\")"
      ],
      "metadata": {
        "colab": {
          "base_uri": "https://localhost:8080/"
        },
        "id": "njmmvvhWbH5L",
        "outputId": "c9c557be-79a4-47a0-d7b6-89e7fd684048"
      },
      "id": "njmmvvhWbH5L",
      "execution_count": null,
      "outputs": [
        {
          "output_type": "stream",
          "name": "stdout",
          "text": [
            "OpenAI response:\n",
            "SELECT s.StudentName\n",
            "FROM students s\n",
            "INNER JOIN departments d ON s.DepartmentId = d.DepartmentId\n",
            "WHERE d.DepartmentName = 'Computer Science';\n"
          ]
        }
      ]
    },
    {
      "cell_type": "code",
      "source": [
        "\n",
        "prompt = \"\"\"The odd numbers in this group add up to an even number: 15, 32, 5, 13, 82, 7, 1.\n",
        "\n",
        "Solve by breaking the problem into steps. First, identify the odd numbers, add them, and indicate whether the result is odd or even.\"\"\"\n",
        "\n",
        "# Consider using gpt-3.5-turbo-instruct for reasoning tasks\n",
        "response = openai.Completion.create(\n",
        "    engine=\"gpt-3.5-turbo-instruct\",\n",
        "    prompt=prompt,\n",
        "    max_tokens=250,  # Adjust max_tokens as needed\n",
        "    n=1,\n",
        "    stop=None,\n",
        "    temperature=0.7,  # Control creativity vs. informativeness\n",
        ")\n",
        "\n",
        "print(\"OpenAI response:\")\n",
        "print(response.choices[0].text.strip())  # Print the generated output"
      ],
      "metadata": {
        "colab": {
          "base_uri": "https://localhost:8080/"
        },
        "id": "vcRd5F7GeoA2",
        "outputId": "83d7f8f2-1798-4431-bca3-4aa8b9cca191"
      },
      "id": "vcRd5F7GeoA2",
      "execution_count": null,
      "outputs": [
        {
          "output_type": "stream",
          "name": "stdout",
          "text": [
            "OpenAI response:\n",
            "Then, explain why the result is even.\n",
            "\n",
            "Step 1: Identify the odd numbers\n",
            "The odd numbers in this group are 15, 5, 13, 7, and 1.\n",
            "\n",
            "Step 2: Add the odd numbers\n",
            "15 + 5 + 13 + 7 + 1 = 41\n",
            "\n",
            "Step 3: Determine if the result is odd or even\n",
            "41 is an odd number.\n",
            "\n",
            "Step 4: Explain why the result is even\n",
            "Although the individual numbers being added are odd, the result is even because of the properties of addition. When adding two odd numbers, the sum will always be an even number. In this case, 41 is the sum of five odd numbers, making it an even number. This is because when an odd number is added to another odd number, the sum will always be an even number (e.g. 15 + 5 = 20). Therefore, the odd numbers in this group add up to an even number.\n"
          ]
        }
      ]
    }
  ],
  "metadata": {
    "colab": {
      "provenance": [],
      "include_colab_link": true
    },
    "kernelspec": {
      "display_name": "Python 3 (ipykernel)",
      "language": "python",
      "name": "python3"
    },
    "language_info": {
      "codemirror_mode": {
        "name": "ipython",
        "version": 3
      },
      "file_extension": ".py",
      "mimetype": "text/x-python",
      "name": "python",
      "nbconvert_exporter": "python",
      "pygments_lexer": "ipython3",
      "version": "3.11.5"
    }
  },
  "nbformat": 4,
  "nbformat_minor": 5
}