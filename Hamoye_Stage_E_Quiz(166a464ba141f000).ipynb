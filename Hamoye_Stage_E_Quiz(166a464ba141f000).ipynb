{
  "nbformat": 4,
  "nbformat_minor": 0,
  "metadata": {
    "colab": {
      "provenance": []
    },
    "kernelspec": {
      "name": "python3",
      "display_name": "Python 3"
    },
    "language_info": {
      "name": "python"
    }
  },
  "cells": [
    {
      "cell_type": "code",
      "execution_count": 1,
      "metadata": {
        "id": "JpqArJ3m4VPQ"
      },
      "outputs": [],
      "source": [
        "import pandas as pd\n",
        "from prophet import Prophet\n",
        "import matplotlib.pyplot as plt"
      ]
    },
    {
      "cell_type": "code",
      "source": [
        "from google.colab import drive\n",
        "drive.mount('/content/drive')"
      ],
      "metadata": {
        "colab": {
          "base_uri": "https://localhost:8080/"
        },
        "id": "d8B_9kn64ic5",
        "outputId": "b5a69f77-a7cb-4014-bb67-ec80b9a7762a"
      },
      "execution_count": 2,
      "outputs": [
        {
          "output_type": "stream",
          "name": "stdout",
          "text": [
            "Mounted at /content/drive\n"
          ]
        }
      ]
    },
    {
      "cell_type": "code",
      "source": [
        "df = pd.read_csv('/content/drive/MyDrive/Time_series_analysis_and_forecast_DATASET.csv')"
      ],
      "metadata": {
        "id": "ofLxZwy74isg"
      },
      "execution_count": 3,
      "outputs": []
    },
    {
      "cell_type": "code",
      "source": [
        "print(df.dtypes)"
      ],
      "metadata": {
        "colab": {
          "base_uri": "https://localhost:8080/"
        },
        "id": "mngUtSRZ4i4-",
        "outputId": "98239878-b381-4744-f756-d8c1994c31d4"
      },
      "execution_count": 4,
      "outputs": [
        {
          "output_type": "stream",
          "name": "stdout",
          "text": [
            "FullDate      object\n",
            "Tmax         float64\n",
            "SysLoad      float64\n",
            "GasPrice     float64\n",
            "ElecPrice    float64\n",
            "dtype: object\n"
          ]
        }
      ]
    },
    {
      "cell_type": "code",
      "source": [
        "df.head()"
      ],
      "metadata": {
        "colab": {
          "base_uri": "https://localhost:8080/",
          "height": 206
        },
        "id": "9D_u5P7f4jJE",
        "outputId": "59c35606-7ab2-4b15-f57e-5e3d7217bd32"
      },
      "execution_count": 5,
      "outputs": [
        {
          "output_type": "execute_result",
          "data": {
            "text/plain": [
              "              FullDate  Tmax   SysLoad  GasPrice  ElecPrice\n",
              "0  2010-09-01 00:00:00  15.8  1688.215      3.69     23.710\n",
              "1  2010-09-01 01:00:00  15.8  1669.195      3.69     22.635\n",
              "2  2010-09-01 02:00:00  15.8  1491.980      3.69     22.565\n",
              "3  2010-09-01 03:00:00  15.8  1330.760      3.69     18.910\n",
              "4  2010-09-01 04:00:00  15.8  1247.940      3.69     18.030"
            ],
            "text/html": [
              "\n",
              "\n",
              "  <div id=\"df-29956b2a-29e7-4ca1-b7c7-e1586daea20d\">\n",
              "    <div class=\"colab-df-container\">\n",
              "      <div>\n",
              "<style scoped>\n",
              "    .dataframe tbody tr th:only-of-type {\n",
              "        vertical-align: middle;\n",
              "    }\n",
              "\n",
              "    .dataframe tbody tr th {\n",
              "        vertical-align: top;\n",
              "    }\n",
              "\n",
              "    .dataframe thead th {\n",
              "        text-align: right;\n",
              "    }\n",
              "</style>\n",
              "<table border=\"1\" class=\"dataframe\">\n",
              "  <thead>\n",
              "    <tr style=\"text-align: right;\">\n",
              "      <th></th>\n",
              "      <th>FullDate</th>\n",
              "      <th>Tmax</th>\n",
              "      <th>SysLoad</th>\n",
              "      <th>GasPrice</th>\n",
              "      <th>ElecPrice</th>\n",
              "    </tr>\n",
              "  </thead>\n",
              "  <tbody>\n",
              "    <tr>\n",
              "      <th>0</th>\n",
              "      <td>2010-09-01 00:00:00</td>\n",
              "      <td>15.8</td>\n",
              "      <td>1688.215</td>\n",
              "      <td>3.69</td>\n",
              "      <td>23.710</td>\n",
              "    </tr>\n",
              "    <tr>\n",
              "      <th>1</th>\n",
              "      <td>2010-09-01 01:00:00</td>\n",
              "      <td>15.8</td>\n",
              "      <td>1669.195</td>\n",
              "      <td>3.69</td>\n",
              "      <td>22.635</td>\n",
              "    </tr>\n",
              "    <tr>\n",
              "      <th>2</th>\n",
              "      <td>2010-09-01 02:00:00</td>\n",
              "      <td>15.8</td>\n",
              "      <td>1491.980</td>\n",
              "      <td>3.69</td>\n",
              "      <td>22.565</td>\n",
              "    </tr>\n",
              "    <tr>\n",
              "      <th>3</th>\n",
              "      <td>2010-09-01 03:00:00</td>\n",
              "      <td>15.8</td>\n",
              "      <td>1330.760</td>\n",
              "      <td>3.69</td>\n",
              "      <td>18.910</td>\n",
              "    </tr>\n",
              "    <tr>\n",
              "      <th>4</th>\n",
              "      <td>2010-09-01 04:00:00</td>\n",
              "      <td>15.8</td>\n",
              "      <td>1247.940</td>\n",
              "      <td>3.69</td>\n",
              "      <td>18.030</td>\n",
              "    </tr>\n",
              "  </tbody>\n",
              "</table>\n",
              "</div>\n",
              "      <button class=\"colab-df-convert\" onclick=\"convertToInteractive('df-29956b2a-29e7-4ca1-b7c7-e1586daea20d')\"\n",
              "              title=\"Convert this dataframe to an interactive table.\"\n",
              "              style=\"display:none;\">\n",
              "\n",
              "  <svg xmlns=\"http://www.w3.org/2000/svg\" height=\"24px\"viewBox=\"0 0 24 24\"\n",
              "       width=\"24px\">\n",
              "    <path d=\"M0 0h24v24H0V0z\" fill=\"none\"/>\n",
              "    <path d=\"M18.56 5.44l.94 2.06.94-2.06 2.06-.94-2.06-.94-.94-2.06-.94 2.06-2.06.94zm-11 1L8.5 8.5l.94-2.06 2.06-.94-2.06-.94L8.5 2.5l-.94 2.06-2.06.94zm10 10l.94 2.06.94-2.06 2.06-.94-2.06-.94-.94-2.06-.94 2.06-2.06.94z\"/><path d=\"M17.41 7.96l-1.37-1.37c-.4-.4-.92-.59-1.43-.59-.52 0-1.04.2-1.43.59L10.3 9.45l-7.72 7.72c-.78.78-.78 2.05 0 2.83L4 21.41c.39.39.9.59 1.41.59.51 0 1.02-.2 1.41-.59l7.78-7.78 2.81-2.81c.8-.78.8-2.07 0-2.86zM5.41 20L4 18.59l7.72-7.72 1.47 1.35L5.41 20z\"/>\n",
              "  </svg>\n",
              "      </button>\n",
              "\n",
              "\n",
              "\n",
              "    <div id=\"df-5997bb22-6b99-44cf-b7cc-53faa70b3d47\">\n",
              "      <button class=\"colab-df-quickchart\" onclick=\"quickchart('df-5997bb22-6b99-44cf-b7cc-53faa70b3d47')\"\n",
              "              title=\"Suggest charts.\"\n",
              "              style=\"display:none;\">\n",
              "\n",
              "<svg xmlns=\"http://www.w3.org/2000/svg\" height=\"24px\"viewBox=\"0 0 24 24\"\n",
              "     width=\"24px\">\n",
              "    <g>\n",
              "        <path d=\"M19 3H5c-1.1 0-2 .9-2 2v14c0 1.1.9 2 2 2h14c1.1 0 2-.9 2-2V5c0-1.1-.9-2-2-2zM9 17H7v-7h2v7zm4 0h-2V7h2v10zm4 0h-2v-4h2v4z\"/>\n",
              "    </g>\n",
              "</svg>\n",
              "      </button>\n",
              "    </div>\n",
              "\n",
              "<style>\n",
              "  .colab-df-quickchart {\n",
              "    background-color: #E8F0FE;\n",
              "    border: none;\n",
              "    border-radius: 50%;\n",
              "    cursor: pointer;\n",
              "    display: none;\n",
              "    fill: #1967D2;\n",
              "    height: 32px;\n",
              "    padding: 0 0 0 0;\n",
              "    width: 32px;\n",
              "  }\n",
              "\n",
              "  .colab-df-quickchart:hover {\n",
              "    background-color: #E2EBFA;\n",
              "    box-shadow: 0px 1px 2px rgba(60, 64, 67, 0.3), 0px 1px 3px 1px rgba(60, 64, 67, 0.15);\n",
              "    fill: #174EA6;\n",
              "  }\n",
              "\n",
              "  [theme=dark] .colab-df-quickchart {\n",
              "    background-color: #3B4455;\n",
              "    fill: #D2E3FC;\n",
              "  }\n",
              "\n",
              "  [theme=dark] .colab-df-quickchart:hover {\n",
              "    background-color: #434B5C;\n",
              "    box-shadow: 0px 1px 3px 1px rgba(0, 0, 0, 0.15);\n",
              "    filter: drop-shadow(0px 1px 2px rgba(0, 0, 0, 0.3));\n",
              "    fill: #FFFFFF;\n",
              "  }\n",
              "</style>\n",
              "\n",
              "    <script>\n",
              "      async function quickchart(key) {\n",
              "        const containerElement = document.querySelector('#' + key);\n",
              "        const charts = await google.colab.kernel.invokeFunction(\n",
              "            'suggestCharts', [key], {});\n",
              "      }\n",
              "    </script>\n",
              "\n",
              "      <script>\n",
              "\n",
              "function displayQuickchartButton(domScope) {\n",
              "  let quickchartButtonEl =\n",
              "    domScope.querySelector('#df-5997bb22-6b99-44cf-b7cc-53faa70b3d47 button.colab-df-quickchart');\n",
              "  quickchartButtonEl.style.display =\n",
              "    google.colab.kernel.accessAllowed ? 'block' : 'none';\n",
              "}\n",
              "\n",
              "        displayQuickchartButton(document);\n",
              "      </script>\n",
              "      <style>\n",
              "    .colab-df-container {\n",
              "      display:flex;\n",
              "      flex-wrap:wrap;\n",
              "      gap: 12px;\n",
              "    }\n",
              "\n",
              "    .colab-df-convert {\n",
              "      background-color: #E8F0FE;\n",
              "      border: none;\n",
              "      border-radius: 50%;\n",
              "      cursor: pointer;\n",
              "      display: none;\n",
              "      fill: #1967D2;\n",
              "      height: 32px;\n",
              "      padding: 0 0 0 0;\n",
              "      width: 32px;\n",
              "    }\n",
              "\n",
              "    .colab-df-convert:hover {\n",
              "      background-color: #E2EBFA;\n",
              "      box-shadow: 0px 1px 2px rgba(60, 64, 67, 0.3), 0px 1px 3px 1px rgba(60, 64, 67, 0.15);\n",
              "      fill: #174EA6;\n",
              "    }\n",
              "\n",
              "    [theme=dark] .colab-df-convert {\n",
              "      background-color: #3B4455;\n",
              "      fill: #D2E3FC;\n",
              "    }\n",
              "\n",
              "    [theme=dark] .colab-df-convert:hover {\n",
              "      background-color: #434B5C;\n",
              "      box-shadow: 0px 1px 3px 1px rgba(0, 0, 0, 0.15);\n",
              "      filter: drop-shadow(0px 1px 2px rgba(0, 0, 0, 0.3));\n",
              "      fill: #FFFFFF;\n",
              "    }\n",
              "  </style>\n",
              "\n",
              "      <script>\n",
              "        const buttonEl =\n",
              "          document.querySelector('#df-29956b2a-29e7-4ca1-b7c7-e1586daea20d button.colab-df-convert');\n",
              "        buttonEl.style.display =\n",
              "          google.colab.kernel.accessAllowed ? 'block' : 'none';\n",
              "\n",
              "        async function convertToInteractive(key) {\n",
              "          const element = document.querySelector('#df-29956b2a-29e7-4ca1-b7c7-e1586daea20d');\n",
              "          const dataTable =\n",
              "            await google.colab.kernel.invokeFunction('convertToInteractive',\n",
              "                                                     [key], {});\n",
              "          if (!dataTable) return;\n",
              "\n",
              "          const docLinkHtml = 'Like what you see? Visit the ' +\n",
              "            '<a target=\"_blank\" href=https://colab.research.google.com/notebooks/data_table.ipynb>data table notebook</a>'\n",
              "            + ' to learn more about interactive tables.';\n",
              "          element.innerHTML = '';\n",
              "          dataTable['output_type'] = 'display_data';\n",
              "          await google.colab.output.renderOutput(dataTable, element);\n",
              "          const docLink = document.createElement('div');\n",
              "          docLink.innerHTML = docLinkHtml;\n",
              "          element.appendChild(docLink);\n",
              "        }\n",
              "      </script>\n",
              "    </div>\n",
              "  </div>\n"
            ]
          },
          "metadata": {},
          "execution_count": 5
        }
      ]
    },
    {
      "cell_type": "code",
      "source": [
        "df.tail()"
      ],
      "metadata": {
        "colab": {
          "base_uri": "https://localhost:8080/",
          "height": 206
        },
        "id": "u_apx_UX4jZ0",
        "outputId": "a4b1da12-e573-4dd6-c858-786d0e75be51"
      },
      "execution_count": 6,
      "outputs": [
        {
          "output_type": "execute_result",
          "data": {
            "text/plain": [
              "                  FullDate  Tmax    SysLoad  GasPrice  ElecPrice\n",
              "92011  2021-02-28 19:00:00  24.3  449.63625    5.4848    117.925\n",
              "92012  2021-02-28 20:00:00  24.3  815.59975    5.4848     87.880\n",
              "92013  2021-02-28 21:00:00  24.3  745.12325    5.4848     62.060\n",
              "92014  2021-02-28 22:00:00  24.3  694.95150    5.4848     62.000\n",
              "92015  2021-02-28 23:00:00  24.3  714.69630    5.4848     62.955"
            ],
            "text/html": [
              "\n",
              "\n",
              "  <div id=\"df-52037412-4db4-4be1-a452-085c5b22eec5\">\n",
              "    <div class=\"colab-df-container\">\n",
              "      <div>\n",
              "<style scoped>\n",
              "    .dataframe tbody tr th:only-of-type {\n",
              "        vertical-align: middle;\n",
              "    }\n",
              "\n",
              "    .dataframe tbody tr th {\n",
              "        vertical-align: top;\n",
              "    }\n",
              "\n",
              "    .dataframe thead th {\n",
              "        text-align: right;\n",
              "    }\n",
              "</style>\n",
              "<table border=\"1\" class=\"dataframe\">\n",
              "  <thead>\n",
              "    <tr style=\"text-align: right;\">\n",
              "      <th></th>\n",
              "      <th>FullDate</th>\n",
              "      <th>Tmax</th>\n",
              "      <th>SysLoad</th>\n",
              "      <th>GasPrice</th>\n",
              "      <th>ElecPrice</th>\n",
              "    </tr>\n",
              "  </thead>\n",
              "  <tbody>\n",
              "    <tr>\n",
              "      <th>92011</th>\n",
              "      <td>2021-02-28 19:00:00</td>\n",
              "      <td>24.3</td>\n",
              "      <td>449.63625</td>\n",
              "      <td>5.4848</td>\n",
              "      <td>117.925</td>\n",
              "    </tr>\n",
              "    <tr>\n",
              "      <th>92012</th>\n",
              "      <td>2021-02-28 20:00:00</td>\n",
              "      <td>24.3</td>\n",
              "      <td>815.59975</td>\n",
              "      <td>5.4848</td>\n",
              "      <td>87.880</td>\n",
              "    </tr>\n",
              "    <tr>\n",
              "      <th>92013</th>\n",
              "      <td>2021-02-28 21:00:00</td>\n",
              "      <td>24.3</td>\n",
              "      <td>745.12325</td>\n",
              "      <td>5.4848</td>\n",
              "      <td>62.060</td>\n",
              "    </tr>\n",
              "    <tr>\n",
              "      <th>92014</th>\n",
              "      <td>2021-02-28 22:00:00</td>\n",
              "      <td>24.3</td>\n",
              "      <td>694.95150</td>\n",
              "      <td>5.4848</td>\n",
              "      <td>62.000</td>\n",
              "    </tr>\n",
              "    <tr>\n",
              "      <th>92015</th>\n",
              "      <td>2021-02-28 23:00:00</td>\n",
              "      <td>24.3</td>\n",
              "      <td>714.69630</td>\n",
              "      <td>5.4848</td>\n",
              "      <td>62.955</td>\n",
              "    </tr>\n",
              "  </tbody>\n",
              "</table>\n",
              "</div>\n",
              "      <button class=\"colab-df-convert\" onclick=\"convertToInteractive('df-52037412-4db4-4be1-a452-085c5b22eec5')\"\n",
              "              title=\"Convert this dataframe to an interactive table.\"\n",
              "              style=\"display:none;\">\n",
              "\n",
              "  <svg xmlns=\"http://www.w3.org/2000/svg\" height=\"24px\"viewBox=\"0 0 24 24\"\n",
              "       width=\"24px\">\n",
              "    <path d=\"M0 0h24v24H0V0z\" fill=\"none\"/>\n",
              "    <path d=\"M18.56 5.44l.94 2.06.94-2.06 2.06-.94-2.06-.94-.94-2.06-.94 2.06-2.06.94zm-11 1L8.5 8.5l.94-2.06 2.06-.94-2.06-.94L8.5 2.5l-.94 2.06-2.06.94zm10 10l.94 2.06.94-2.06 2.06-.94-2.06-.94-.94-2.06-.94 2.06-2.06.94z\"/><path d=\"M17.41 7.96l-1.37-1.37c-.4-.4-.92-.59-1.43-.59-.52 0-1.04.2-1.43.59L10.3 9.45l-7.72 7.72c-.78.78-.78 2.05 0 2.83L4 21.41c.39.39.9.59 1.41.59.51 0 1.02-.2 1.41-.59l7.78-7.78 2.81-2.81c.8-.78.8-2.07 0-2.86zM5.41 20L4 18.59l7.72-7.72 1.47 1.35L5.41 20z\"/>\n",
              "  </svg>\n",
              "      </button>\n",
              "\n",
              "\n",
              "\n",
              "    <div id=\"df-1529bb1e-870e-439e-9b71-490c9d5f7bf7\">\n",
              "      <button class=\"colab-df-quickchart\" onclick=\"quickchart('df-1529bb1e-870e-439e-9b71-490c9d5f7bf7')\"\n",
              "              title=\"Suggest charts.\"\n",
              "              style=\"display:none;\">\n",
              "\n",
              "<svg xmlns=\"http://www.w3.org/2000/svg\" height=\"24px\"viewBox=\"0 0 24 24\"\n",
              "     width=\"24px\">\n",
              "    <g>\n",
              "        <path d=\"M19 3H5c-1.1 0-2 .9-2 2v14c0 1.1.9 2 2 2h14c1.1 0 2-.9 2-2V5c0-1.1-.9-2-2-2zM9 17H7v-7h2v7zm4 0h-2V7h2v10zm4 0h-2v-4h2v4z\"/>\n",
              "    </g>\n",
              "</svg>\n",
              "      </button>\n",
              "    </div>\n",
              "\n",
              "<style>\n",
              "  .colab-df-quickchart {\n",
              "    background-color: #E8F0FE;\n",
              "    border: none;\n",
              "    border-radius: 50%;\n",
              "    cursor: pointer;\n",
              "    display: none;\n",
              "    fill: #1967D2;\n",
              "    height: 32px;\n",
              "    padding: 0 0 0 0;\n",
              "    width: 32px;\n",
              "  }\n",
              "\n",
              "  .colab-df-quickchart:hover {\n",
              "    background-color: #E2EBFA;\n",
              "    box-shadow: 0px 1px 2px rgba(60, 64, 67, 0.3), 0px 1px 3px 1px rgba(60, 64, 67, 0.15);\n",
              "    fill: #174EA6;\n",
              "  }\n",
              "\n",
              "  [theme=dark] .colab-df-quickchart {\n",
              "    background-color: #3B4455;\n",
              "    fill: #D2E3FC;\n",
              "  }\n",
              "\n",
              "  [theme=dark] .colab-df-quickchart:hover {\n",
              "    background-color: #434B5C;\n",
              "    box-shadow: 0px 1px 3px 1px rgba(0, 0, 0, 0.15);\n",
              "    filter: drop-shadow(0px 1px 2px rgba(0, 0, 0, 0.3));\n",
              "    fill: #FFFFFF;\n",
              "  }\n",
              "</style>\n",
              "\n",
              "    <script>\n",
              "      async function quickchart(key) {\n",
              "        const containerElement = document.querySelector('#' + key);\n",
              "        const charts = await google.colab.kernel.invokeFunction(\n",
              "            'suggestCharts', [key], {});\n",
              "      }\n",
              "    </script>\n",
              "\n",
              "      <script>\n",
              "\n",
              "function displayQuickchartButton(domScope) {\n",
              "  let quickchartButtonEl =\n",
              "    domScope.querySelector('#df-1529bb1e-870e-439e-9b71-490c9d5f7bf7 button.colab-df-quickchart');\n",
              "  quickchartButtonEl.style.display =\n",
              "    google.colab.kernel.accessAllowed ? 'block' : 'none';\n",
              "}\n",
              "\n",
              "        displayQuickchartButton(document);\n",
              "      </script>\n",
              "      <style>\n",
              "    .colab-df-container {\n",
              "      display:flex;\n",
              "      flex-wrap:wrap;\n",
              "      gap: 12px;\n",
              "    }\n",
              "\n",
              "    .colab-df-convert {\n",
              "      background-color: #E8F0FE;\n",
              "      border: none;\n",
              "      border-radius: 50%;\n",
              "      cursor: pointer;\n",
              "      display: none;\n",
              "      fill: #1967D2;\n",
              "      height: 32px;\n",
              "      padding: 0 0 0 0;\n",
              "      width: 32px;\n",
              "    }\n",
              "\n",
              "    .colab-df-convert:hover {\n",
              "      background-color: #E2EBFA;\n",
              "      box-shadow: 0px 1px 2px rgba(60, 64, 67, 0.3), 0px 1px 3px 1px rgba(60, 64, 67, 0.15);\n",
              "      fill: #174EA6;\n",
              "    }\n",
              "\n",
              "    [theme=dark] .colab-df-convert {\n",
              "      background-color: #3B4455;\n",
              "      fill: #D2E3FC;\n",
              "    }\n",
              "\n",
              "    [theme=dark] .colab-df-convert:hover {\n",
              "      background-color: #434B5C;\n",
              "      box-shadow: 0px 1px 3px 1px rgba(0, 0, 0, 0.15);\n",
              "      filter: drop-shadow(0px 1px 2px rgba(0, 0, 0, 0.3));\n",
              "      fill: #FFFFFF;\n",
              "    }\n",
              "  </style>\n",
              "\n",
              "      <script>\n",
              "        const buttonEl =\n",
              "          document.querySelector('#df-52037412-4db4-4be1-a452-085c5b22eec5 button.colab-df-convert');\n",
              "        buttonEl.style.display =\n",
              "          google.colab.kernel.accessAllowed ? 'block' : 'none';\n",
              "\n",
              "        async function convertToInteractive(key) {\n",
              "          const element = document.querySelector('#df-52037412-4db4-4be1-a452-085c5b22eec5');\n",
              "          const dataTable =\n",
              "            await google.colab.kernel.invokeFunction('convertToInteractive',\n",
              "                                                     [key], {});\n",
              "          if (!dataTable) return;\n",
              "\n",
              "          const docLinkHtml = 'Like what you see? Visit the ' +\n",
              "            '<a target=\"_blank\" href=https://colab.research.google.com/notebooks/data_table.ipynb>data table notebook</a>'\n",
              "            + ' to learn more about interactive tables.';\n",
              "          element.innerHTML = '';\n",
              "          dataTable['output_type'] = 'display_data';\n",
              "          await google.colab.output.renderOutput(dataTable, element);\n",
              "          const docLink = document.createElement('div');\n",
              "          docLink.innerHTML = docLinkHtml;\n",
              "          element.appendChild(docLink);\n",
              "        }\n",
              "      </script>\n",
              "    </div>\n",
              "  </div>\n"
            ]
          },
          "metadata": {},
          "execution_count": 6
        }
      ]
    },
    {
      "cell_type": "code",
      "source": [
        "print(df.columns)"
      ],
      "metadata": {
        "colab": {
          "base_uri": "https://localhost:8080/"
        },
        "id": "YYZeegZz4jsY",
        "outputId": "f45fec1f-e9dc-4d0e-a508-01b2c1f96089"
      },
      "execution_count": 7,
      "outputs": [
        {
          "output_type": "stream",
          "name": "stdout",
          "text": [
            "Index(['FullDate', 'Tmax', 'SysLoad', 'GasPrice', 'ElecPrice'], dtype='object')\n"
          ]
        }
      ]
    },
    {
      "cell_type": "code",
      "source": [
        "# Check for missing values\n",
        "print(df.isnull().sum())"
      ],
      "metadata": {
        "colab": {
          "base_uri": "https://localhost:8080/"
        },
        "id": "ZScQv-x54j8J",
        "outputId": "68e60ad8-82ea-4eff-b9e8-a08b1d78cb60"
      },
      "execution_count": 8,
      "outputs": [
        {
          "output_type": "stream",
          "name": "stdout",
          "text": [
            "FullDate     0\n",
            "Tmax         0\n",
            "SysLoad      0\n",
            "GasPrice     0\n",
            "ElecPrice    0\n",
            "dtype: int64\n"
          ]
        }
      ]
    },
    {
      "cell_type": "code",
      "source": [
        "df.describe()"
      ],
      "metadata": {
        "colab": {
          "base_uri": "https://localhost:8080/",
          "height": 300
        },
        "id": "DWrhWcDO4kPl",
        "outputId": "5853c50a-668a-418c-e160-cbef07d620d5"
      },
      "execution_count": 9,
      "outputs": [
        {
          "output_type": "execute_result",
          "data": {
            "text/plain": [
              "               Tmax       SysLoad      GasPrice     ElecPrice\n",
              "count  92016.000000  92016.000000  92016.000000  92016.000000\n",
              "mean     231.696688    797.623357      6.016163     65.798356\n",
              "std     4562.128748    613.520156      2.608116    213.144084\n",
              "min        9.900000  -1596.810100      0.000000   -924.820000\n",
              "25%       17.300000    417.119800      3.936900     31.543750\n",
              "50%       21.900000    856.467925      5.165600     48.715000\n",
              "75%       27.600000   1221.293675      8.023300     76.495000\n",
              "max    99999.900000   3264.166300     29.990000  14700.000000"
            ],
            "text/html": [
              "\n",
              "\n",
              "  <div id=\"df-4f651878-06f8-4c1d-8f1c-d6fdeda32f01\">\n",
              "    <div class=\"colab-df-container\">\n",
              "      <div>\n",
              "<style scoped>\n",
              "    .dataframe tbody tr th:only-of-type {\n",
              "        vertical-align: middle;\n",
              "    }\n",
              "\n",
              "    .dataframe tbody tr th {\n",
              "        vertical-align: top;\n",
              "    }\n",
              "\n",
              "    .dataframe thead th {\n",
              "        text-align: right;\n",
              "    }\n",
              "</style>\n",
              "<table border=\"1\" class=\"dataframe\">\n",
              "  <thead>\n",
              "    <tr style=\"text-align: right;\">\n",
              "      <th></th>\n",
              "      <th>Tmax</th>\n",
              "      <th>SysLoad</th>\n",
              "      <th>GasPrice</th>\n",
              "      <th>ElecPrice</th>\n",
              "    </tr>\n",
              "  </thead>\n",
              "  <tbody>\n",
              "    <tr>\n",
              "      <th>count</th>\n",
              "      <td>92016.000000</td>\n",
              "      <td>92016.000000</td>\n",
              "      <td>92016.000000</td>\n",
              "      <td>92016.000000</td>\n",
              "    </tr>\n",
              "    <tr>\n",
              "      <th>mean</th>\n",
              "      <td>231.696688</td>\n",
              "      <td>797.623357</td>\n",
              "      <td>6.016163</td>\n",
              "      <td>65.798356</td>\n",
              "    </tr>\n",
              "    <tr>\n",
              "      <th>std</th>\n",
              "      <td>4562.128748</td>\n",
              "      <td>613.520156</td>\n",
              "      <td>2.608116</td>\n",
              "      <td>213.144084</td>\n",
              "    </tr>\n",
              "    <tr>\n",
              "      <th>min</th>\n",
              "      <td>9.900000</td>\n",
              "      <td>-1596.810100</td>\n",
              "      <td>0.000000</td>\n",
              "      <td>-924.820000</td>\n",
              "    </tr>\n",
              "    <tr>\n",
              "      <th>25%</th>\n",
              "      <td>17.300000</td>\n",
              "      <td>417.119800</td>\n",
              "      <td>3.936900</td>\n",
              "      <td>31.543750</td>\n",
              "    </tr>\n",
              "    <tr>\n",
              "      <th>50%</th>\n",
              "      <td>21.900000</td>\n",
              "      <td>856.467925</td>\n",
              "      <td>5.165600</td>\n",
              "      <td>48.715000</td>\n",
              "    </tr>\n",
              "    <tr>\n",
              "      <th>75%</th>\n",
              "      <td>27.600000</td>\n",
              "      <td>1221.293675</td>\n",
              "      <td>8.023300</td>\n",
              "      <td>76.495000</td>\n",
              "    </tr>\n",
              "    <tr>\n",
              "      <th>max</th>\n",
              "      <td>99999.900000</td>\n",
              "      <td>3264.166300</td>\n",
              "      <td>29.990000</td>\n",
              "      <td>14700.000000</td>\n",
              "    </tr>\n",
              "  </tbody>\n",
              "</table>\n",
              "</div>\n",
              "      <button class=\"colab-df-convert\" onclick=\"convertToInteractive('df-4f651878-06f8-4c1d-8f1c-d6fdeda32f01')\"\n",
              "              title=\"Convert this dataframe to an interactive table.\"\n",
              "              style=\"display:none;\">\n",
              "\n",
              "  <svg xmlns=\"http://www.w3.org/2000/svg\" height=\"24px\"viewBox=\"0 0 24 24\"\n",
              "       width=\"24px\">\n",
              "    <path d=\"M0 0h24v24H0V0z\" fill=\"none\"/>\n",
              "    <path d=\"M18.56 5.44l.94 2.06.94-2.06 2.06-.94-2.06-.94-.94-2.06-.94 2.06-2.06.94zm-11 1L8.5 8.5l.94-2.06 2.06-.94-2.06-.94L8.5 2.5l-.94 2.06-2.06.94zm10 10l.94 2.06.94-2.06 2.06-.94-2.06-.94-.94-2.06-.94 2.06-2.06.94z\"/><path d=\"M17.41 7.96l-1.37-1.37c-.4-.4-.92-.59-1.43-.59-.52 0-1.04.2-1.43.59L10.3 9.45l-7.72 7.72c-.78.78-.78 2.05 0 2.83L4 21.41c.39.39.9.59 1.41.59.51 0 1.02-.2 1.41-.59l7.78-7.78 2.81-2.81c.8-.78.8-2.07 0-2.86zM5.41 20L4 18.59l7.72-7.72 1.47 1.35L5.41 20z\"/>\n",
              "  </svg>\n",
              "      </button>\n",
              "\n",
              "\n",
              "\n",
              "    <div id=\"df-906adc73-cff0-413b-9e68-d94d996af615\">\n",
              "      <button class=\"colab-df-quickchart\" onclick=\"quickchart('df-906adc73-cff0-413b-9e68-d94d996af615')\"\n",
              "              title=\"Suggest charts.\"\n",
              "              style=\"display:none;\">\n",
              "\n",
              "<svg xmlns=\"http://www.w3.org/2000/svg\" height=\"24px\"viewBox=\"0 0 24 24\"\n",
              "     width=\"24px\">\n",
              "    <g>\n",
              "        <path d=\"M19 3H5c-1.1 0-2 .9-2 2v14c0 1.1.9 2 2 2h14c1.1 0 2-.9 2-2V5c0-1.1-.9-2-2-2zM9 17H7v-7h2v7zm4 0h-2V7h2v10zm4 0h-2v-4h2v4z\"/>\n",
              "    </g>\n",
              "</svg>\n",
              "      </button>\n",
              "    </div>\n",
              "\n",
              "<style>\n",
              "  .colab-df-quickchart {\n",
              "    background-color: #E8F0FE;\n",
              "    border: none;\n",
              "    border-radius: 50%;\n",
              "    cursor: pointer;\n",
              "    display: none;\n",
              "    fill: #1967D2;\n",
              "    height: 32px;\n",
              "    padding: 0 0 0 0;\n",
              "    width: 32px;\n",
              "  }\n",
              "\n",
              "  .colab-df-quickchart:hover {\n",
              "    background-color: #E2EBFA;\n",
              "    box-shadow: 0px 1px 2px rgba(60, 64, 67, 0.3), 0px 1px 3px 1px rgba(60, 64, 67, 0.15);\n",
              "    fill: #174EA6;\n",
              "  }\n",
              "\n",
              "  [theme=dark] .colab-df-quickchart {\n",
              "    background-color: #3B4455;\n",
              "    fill: #D2E3FC;\n",
              "  }\n",
              "\n",
              "  [theme=dark] .colab-df-quickchart:hover {\n",
              "    background-color: #434B5C;\n",
              "    box-shadow: 0px 1px 3px 1px rgba(0, 0, 0, 0.15);\n",
              "    filter: drop-shadow(0px 1px 2px rgba(0, 0, 0, 0.3));\n",
              "    fill: #FFFFFF;\n",
              "  }\n",
              "</style>\n",
              "\n",
              "    <script>\n",
              "      async function quickchart(key) {\n",
              "        const containerElement = document.querySelector('#' + key);\n",
              "        const charts = await google.colab.kernel.invokeFunction(\n",
              "            'suggestCharts', [key], {});\n",
              "      }\n",
              "    </script>\n",
              "\n",
              "      <script>\n",
              "\n",
              "function displayQuickchartButton(domScope) {\n",
              "  let quickchartButtonEl =\n",
              "    domScope.querySelector('#df-906adc73-cff0-413b-9e68-d94d996af615 button.colab-df-quickchart');\n",
              "  quickchartButtonEl.style.display =\n",
              "    google.colab.kernel.accessAllowed ? 'block' : 'none';\n",
              "}\n",
              "\n",
              "        displayQuickchartButton(document);\n",
              "      </script>\n",
              "      <style>\n",
              "    .colab-df-container {\n",
              "      display:flex;\n",
              "      flex-wrap:wrap;\n",
              "      gap: 12px;\n",
              "    }\n",
              "\n",
              "    .colab-df-convert {\n",
              "      background-color: #E8F0FE;\n",
              "      border: none;\n",
              "      border-radius: 50%;\n",
              "      cursor: pointer;\n",
              "      display: none;\n",
              "      fill: #1967D2;\n",
              "      height: 32px;\n",
              "      padding: 0 0 0 0;\n",
              "      width: 32px;\n",
              "    }\n",
              "\n",
              "    .colab-df-convert:hover {\n",
              "      background-color: #E2EBFA;\n",
              "      box-shadow: 0px 1px 2px rgba(60, 64, 67, 0.3), 0px 1px 3px 1px rgba(60, 64, 67, 0.15);\n",
              "      fill: #174EA6;\n",
              "    }\n",
              "\n",
              "    [theme=dark] .colab-df-convert {\n",
              "      background-color: #3B4455;\n",
              "      fill: #D2E3FC;\n",
              "    }\n",
              "\n",
              "    [theme=dark] .colab-df-convert:hover {\n",
              "      background-color: #434B5C;\n",
              "      box-shadow: 0px 1px 3px 1px rgba(0, 0, 0, 0.15);\n",
              "      filter: drop-shadow(0px 1px 2px rgba(0, 0, 0, 0.3));\n",
              "      fill: #FFFFFF;\n",
              "    }\n",
              "  </style>\n",
              "\n",
              "      <script>\n",
              "        const buttonEl =\n",
              "          document.querySelector('#df-4f651878-06f8-4c1d-8f1c-d6fdeda32f01 button.colab-df-convert');\n",
              "        buttonEl.style.display =\n",
              "          google.colab.kernel.accessAllowed ? 'block' : 'none';\n",
              "\n",
              "        async function convertToInteractive(key) {\n",
              "          const element = document.querySelector('#df-4f651878-06f8-4c1d-8f1c-d6fdeda32f01');\n",
              "          const dataTable =\n",
              "            await google.colab.kernel.invokeFunction('convertToInteractive',\n",
              "                                                     [key], {});\n",
              "          if (!dataTable) return;\n",
              "\n",
              "          const docLinkHtml = 'Like what you see? Visit the ' +\n",
              "            '<a target=\"_blank\" href=https://colab.research.google.com/notebooks/data_table.ipynb>data table notebook</a>'\n",
              "            + ' to learn more about interactive tables.';\n",
              "          element.innerHTML = '';\n",
              "          dataTable['output_type'] = 'display_data';\n",
              "          await google.colab.output.renderOutput(dataTable, element);\n",
              "          const docLink = document.createElement('div');\n",
              "          docLink.innerHTML = docLinkHtml;\n",
              "          element.appendChild(docLink);\n",
              "        }\n",
              "      </script>\n",
              "    </div>\n",
              "  </div>\n"
            ]
          },
          "metadata": {},
          "execution_count": 9
        }
      ]
    },
    {
      "cell_type": "code",
      "source": [
        "df.info"
      ],
      "metadata": {
        "colab": {
          "base_uri": "https://localhost:8080/"
        },
        "id": "YxgWCRiy4kf8",
        "outputId": "965046ea-42bf-4998-d5c9-9bea479bdb5f"
      },
      "execution_count": 10,
      "outputs": [
        {
          "output_type": "execute_result",
          "data": {
            "text/plain": [
              "<bound method DataFrame.info of                   FullDate  Tmax     SysLoad  GasPrice  ElecPrice\n",
              "0      2010-09-01 00:00:00  15.8  1688.21500    3.6900     23.710\n",
              "1      2010-09-01 01:00:00  15.8  1669.19500    3.6900     22.635\n",
              "2      2010-09-01 02:00:00  15.8  1491.98000    3.6900     22.565\n",
              "3      2010-09-01 03:00:00  15.8  1330.76000    3.6900     18.910\n",
              "4      2010-09-01 04:00:00  15.8  1247.94000    3.6900     18.030\n",
              "...                    ...   ...         ...       ...        ...\n",
              "92011  2021-02-28 19:00:00  24.3   449.63625    5.4848    117.925\n",
              "92012  2021-02-28 20:00:00  24.3   815.59975    5.4848     87.880\n",
              "92013  2021-02-28 21:00:00  24.3   745.12325    5.4848     62.060\n",
              "92014  2021-02-28 22:00:00  24.3   694.95150    5.4848     62.000\n",
              "92015  2021-02-28 23:00:00  24.3   714.69630    5.4848     62.955\n",
              "\n",
              "[92016 rows x 5 columns]>"
            ]
          },
          "metadata": {},
          "execution_count": 10
        }
      ]
    },
    {
      "cell_type": "code",
      "source": [
        "# Rename columns\n",
        "df = df.rename(columns={'FullDate': 'ds', 'ElecPrice': 'y'})"
      ],
      "metadata": {
        "id": "6nduWqFb4kuc"
      },
      "execution_count": 11,
      "outputs": []
    },
    {
      "cell_type": "code",
      "source": [
        "print(df.columns)"
      ],
      "metadata": {
        "colab": {
          "base_uri": "https://localhost:8080/"
        },
        "id": "HpMtINYu4k-K",
        "outputId": "830cb718-a0a1-443a-c129-2d1959c4dcea"
      },
      "execution_count": 12,
      "outputs": [
        {
          "output_type": "stream",
          "name": "stdout",
          "text": [
            "Index(['ds', 'Tmax', 'SysLoad', 'GasPrice', 'y'], dtype='object')\n"
          ]
        }
      ]
    },
    {
      "cell_type": "code",
      "source": [
        "train = df.iloc[:2757]\n",
        "test = df.iloc[2757:]\n",
        "\n",
        "print(len(df))"
      ],
      "metadata": {
        "colab": {
          "base_uri": "https://localhost:8080/"
        },
        "id": "ae-BJ2_o4lOl",
        "outputId": "0672e418-9455-4203-cb3f-317887373c93"
      },
      "execution_count": 13,
      "outputs": [
        {
          "output_type": "stream",
          "name": "stdout",
          "text": [
            "92016\n"
          ]
        }
      ]
    },
    {
      "cell_type": "code",
      "source": [
        "# Create model\n",
        "model = Prophet(daily_seasonality=True)"
      ],
      "metadata": {
        "id": "zqsg_Xfw4ldh"
      },
      "execution_count": 14,
      "outputs": []
    },
    {
      "cell_type": "code",
      "source": [
        "# Fit model on training data\n",
        "model.fit(train)"
      ],
      "metadata": {
        "colab": {
          "base_uri": "https://localhost:8080/"
        },
        "id": "ZLEb0HDp4ltN",
        "outputId": "2169b257-4a8e-4d23-ac55-81f5ebc147c4"
      },
      "execution_count": 15,
      "outputs": [
        {
          "output_type": "stream",
          "name": "stderr",
          "text": [
            "INFO:prophet:Disabling yearly seasonality. Run prophet with yearly_seasonality=True to override this.\n",
            "DEBUG:cmdstanpy:input tempfile: /tmp/tmp545tfls5/_11p48h1.json\n",
            "DEBUG:cmdstanpy:input tempfile: /tmp/tmp545tfls5/eh_sbq0t.json\n",
            "DEBUG:cmdstanpy:idx 0\n",
            "DEBUG:cmdstanpy:running CmdStan, num_threads: None\n",
            "DEBUG:cmdstanpy:CmdStan args: ['/usr/local/lib/python3.10/dist-packages/prophet/stan_model/prophet_model.bin', 'random', 'seed=89655', 'data', 'file=/tmp/tmp545tfls5/_11p48h1.json', 'init=/tmp/tmp545tfls5/eh_sbq0t.json', 'output', 'file=/tmp/tmp545tfls5/prophet_modellmax645d/prophet_model-20230801222757.csv', 'method=optimize', 'algorithm=lbfgs', 'iter=10000']\n",
            "22:27:57 - cmdstanpy - INFO - Chain [1] start processing\n",
            "INFO:cmdstanpy:Chain [1] start processing\n",
            "22:27:57 - cmdstanpy - INFO - Chain [1] done processing\n",
            "INFO:cmdstanpy:Chain [1] done processing\n"
          ]
        },
        {
          "output_type": "execute_result",
          "data": {
            "text/plain": [
              "<prophet.forecaster.Prophet at 0x7aa3a2c48820>"
            ]
          },
          "metadata": {},
          "execution_count": 15
        }
      ]
    },
    {
      "cell_type": "code",
      "source": [
        "# Make predictions on test data\n",
        "future = model.make_future_dataframe(periods=len(test))\n",
        "forecast = model.predict(future)"
      ],
      "metadata": {
        "id": "O0qjCMrL4l7h"
      },
      "execution_count": 16,
      "outputs": []
    },
    {
      "cell_type": "code",
      "source": [
        "# Print forecast\n",
        "print(forecast.tail())"
      ],
      "metadata": {
        "colab": {
          "base_uri": "https://localhost:8080/"
        },
        "id": "QgrB6gJz4iG-",
        "outputId": "ee46bcb3-b05b-4c5c-e4b5-7e2b25ebf3d2"
      },
      "execution_count": 17,
      "outputs": [
        {
          "output_type": "stream",
          "name": "stdout",
          "text": [
            "                       ds         trend    yhat_lower    yhat_upper  \\\n",
            "92011 2255-05-09 20:00:00 -24052.558912 -3.678069e+06  3.432682e+06   \n",
            "92012 2255-05-10 20:00:00 -24052.828545 -3.677822e+06  3.432850e+06   \n",
            "92013 2255-05-11 20:00:00 -24053.098178 -3.677971e+06  3.432720e+06   \n",
            "92014 2255-05-12 20:00:00 -24053.367811 -3.677819e+06  3.432549e+06   \n",
            "92015 2255-05-13 20:00:00 -24053.637444 -3.677799e+06  3.432568e+06   \n",
            "\n",
            "        trend_lower   trend_upper  additive_terms  additive_terms_lower  \\\n",
            "92011 -3.678000e+06  3.432689e+06       16.523652             16.523652   \n",
            "92012 -3.677987e+06  3.432684e+06       -4.215353             -4.215353   \n",
            "92013 -3.677973e+06  3.432679e+06        3.385095              3.385095   \n",
            "92014 -3.677960e+06  3.432674e+06      -11.565838            -11.565838   \n",
            "92015 -3.677946e+06  3.432669e+06       -3.984759             -3.984759   \n",
            "\n",
            "       additive_terms_upper     daily  daily_lower  daily_upper     weekly  \\\n",
            "92011             16.523652  1.624289     1.624289     1.624289  14.899363   \n",
            "92012             -4.215353  1.624289     1.624289     1.624289  -5.839642   \n",
            "92013              3.385095  1.624289     1.624289     1.624289   1.760806   \n",
            "92014            -11.565838  1.624289     1.624289     1.624289 -13.190127   \n",
            "92015             -3.984759  1.624289     1.624289     1.624289  -5.609048   \n",
            "\n",
            "       weekly_lower  weekly_upper  multiplicative_terms  \\\n",
            "92011     14.899363     14.899363                   0.0   \n",
            "92012     -5.839642     -5.839642                   0.0   \n",
            "92013      1.760806      1.760806                   0.0   \n",
            "92014    -13.190127    -13.190127                   0.0   \n",
            "92015     -5.609048     -5.609048                   0.0   \n",
            "\n",
            "       multiplicative_terms_lower  multiplicative_terms_upper          yhat  \n",
            "92011                         0.0                         0.0 -24036.035260  \n",
            "92012                         0.0                         0.0 -24057.043898  \n",
            "92013                         0.0                         0.0 -24049.713083  \n",
            "92014                         0.0                         0.0 -24064.933649  \n",
            "92015                         0.0                         0.0 -24057.622204  \n"
          ]
        }
      ]
    },
    {
      "cell_type": "code",
      "source": [
        "#Rename all columns\n",
        "df = df.rename(columns={'SysLoad': 'add1'})\n",
        "df = df.rename(columns={'Tmax': 'add2'})\n",
        "df = df.rename(columns={'GasPrice': 'add3'})\n",
        "df = df.rename(columns={'FullDate': 'ds'})\n",
        "df = df.rename(columns={'ElecPrice': 'y'})\n",
        "\n",
        "\n",
        "print(df.head())"
      ],
      "metadata": {
        "colab": {
          "base_uri": "https://localhost:8080/"
        },
        "id": "zo7qTU8R4hzz",
        "outputId": "9893dcb2-42b0-4343-a45b-057f34f5986a"
      },
      "execution_count": 18,
      "outputs": [
        {
          "output_type": "stream",
          "name": "stdout",
          "text": [
            "                    ds  add2      add1  add3       y\n",
            "0  2010-09-01 00:00:00  15.8  1688.215  3.69  23.710\n",
            "1  2010-09-01 01:00:00  15.8  1669.195  3.69  22.635\n",
            "2  2010-09-01 02:00:00  15.8  1491.980  3.69  22.565\n",
            "3  2010-09-01 03:00:00  15.8  1330.760  3.69  18.910\n",
            "4  2010-09-01 04:00:00  15.8  1247.940  3.69  18.030\n"
          ]
        }
      ]
    },
    {
      "cell_type": "code",
      "source": [
        "# Create train and test sets\n",
        "train = df.iloc[:2757]\n",
        "test = df.iloc[2757:]"
      ],
      "metadata": {
        "id": "5Ho9A1Os4hii"
      },
      "execution_count": 19,
      "outputs": []
    },
    {
      "cell_type": "code",
      "source": [
        "# Create model with regressors\n",
        "model = Prophet(daily_seasonality=True)\n",
        "model.add_regressor('add1')\n",
        "model.add_regressor('add2')\n",
        "model.add_regressor('add3')\n"
      ],
      "metadata": {
        "colab": {
          "base_uri": "https://localhost:8080/"
        },
        "id": "VoY-h6p84hPy",
        "outputId": "c66f6601-485c-4a90-cd3a-74a6ee6163ba"
      },
      "execution_count": 20,
      "outputs": [
        {
          "output_type": "execute_result",
          "data": {
            "text/plain": [
              "<prophet.forecaster.Prophet at 0x7aa3a3bb0220>"
            ]
          },
          "metadata": {},
          "execution_count": 20
        }
      ]
    },
    {
      "cell_type": "code",
      "source": [
        "# Fit model on training data\n",
        "model.fit(train)\n"
      ],
      "metadata": {
        "colab": {
          "base_uri": "https://localhost:8080/"
        },
        "id": "PfLdEkrh4hC8",
        "outputId": "4415e039-386f-4d52-f7ba-5a0d372320ae"
      },
      "execution_count": 21,
      "outputs": [
        {
          "output_type": "stream",
          "name": "stderr",
          "text": [
            "INFO:prophet:Disabling yearly seasonality. Run prophet with yearly_seasonality=True to override this.\n",
            "DEBUG:cmdstanpy:input tempfile: /tmp/tmp545tfls5/teklkc4w.json\n",
            "DEBUG:cmdstanpy:input tempfile: /tmp/tmp545tfls5/sw5y58fn.json\n",
            "DEBUG:cmdstanpy:idx 0\n",
            "DEBUG:cmdstanpy:running CmdStan, num_threads: None\n",
            "DEBUG:cmdstanpy:CmdStan args: ['/usr/local/lib/python3.10/dist-packages/prophet/stan_model/prophet_model.bin', 'random', 'seed=7534', 'data', 'file=/tmp/tmp545tfls5/teklkc4w.json', 'init=/tmp/tmp545tfls5/sw5y58fn.json', 'output', 'file=/tmp/tmp545tfls5/prophet_modeld6udoqcl/prophet_model-20230801222935.csv', 'method=optimize', 'algorithm=lbfgs', 'iter=10000']\n",
            "22:29:35 - cmdstanpy - INFO - Chain [1] start processing\n",
            "INFO:cmdstanpy:Chain [1] start processing\n",
            "22:29:36 - cmdstanpy - INFO - Chain [1] done processing\n",
            "INFO:cmdstanpy:Chain [1] done processing\n"
          ]
        },
        {
          "output_type": "execute_result",
          "data": {
            "text/plain": [
              "<prophet.forecaster.Prophet at 0x7aa3a3bb0220>"
            ]
          },
          "metadata": {},
          "execution_count": 21
        }
      ]
    },
    {
      "cell_type": "code",
      "source": [
        "# Make predictions on test data\n",
        "future = model.make_future_dataframe(periods=len(test))\n",
        "future['add1'] = df['add1']\n",
        "future['add2'] = df['add2']\n",
        "future['add3'] = df['add3']\n",
        "forecast = model.predict(future)"
      ],
      "metadata": {
        "id": "g6u19aVG4gva"
      },
      "execution_count": 22,
      "outputs": []
    },
    {
      "cell_type": "code",
      "source": [
        "# Print forecast\n",
        "print(forecast.tail())"
      ],
      "metadata": {
        "colab": {
          "base_uri": "https://localhost:8080/"
        },
        "id": "3KZl1Oi-4ghO",
        "outputId": "c412926a-85bc-41b8-b820-38b434966857"
      },
      "execution_count": 23,
      "outputs": [
        {
          "output_type": "stream",
          "name": "stdout",
          "text": [
            "                       ds         trend    yhat_lower    yhat_upper  \\\n",
            "92011 2255-05-09 20:00:00  57232.659746 -3.489662e+06  3.341177e+06   \n",
            "92012 2255-05-10 20:00:00  57233.300572 -3.489755e+06  3.341312e+06   \n",
            "92013 2255-05-11 20:00:00  57233.941397 -3.489923e+06  3.341424e+06   \n",
            "92014 2255-05-12 20:00:00  57234.582223 -3.489955e+06  3.341534e+06   \n",
            "92015 2255-05-13 20:00:00  57235.223049 -3.489748e+06  3.341508e+06   \n",
            "\n",
            "        trend_lower   trend_upper       add1  add1_lower  add1_upper  \\\n",
            "92011 -3.489655e+06  3.341276e+06 -33.824475  -33.824475  -33.824475   \n",
            "92012 -3.489714e+06  3.341347e+06 -20.880980  -20.880980  -20.880980   \n",
            "92013 -3.489773e+06  3.341418e+06 -23.373612  -23.373612  -23.373612   \n",
            "92014 -3.489831e+06  3.341490e+06 -25.148100  -25.148100  -25.148100   \n",
            "92015 -3.489890e+06  3.341561e+06 -24.449761  -24.449761  -24.449761   \n",
            "\n",
            "           add2  ...  extra_regressors_additive  \\\n",
            "92011 -0.138152  ...                 -32.225199   \n",
            "92012 -0.138152  ...                 -19.281705   \n",
            "92013 -0.138152  ...                 -21.774336   \n",
            "92014 -0.138152  ...                 -23.548824   \n",
            "92015 -0.138152  ...                 -22.850485   \n",
            "\n",
            "       extra_regressors_additive_lower  extra_regressors_additive_upper  \\\n",
            "92011                       -32.225199                       -32.225199   \n",
            "92012                       -19.281705                       -19.281705   \n",
            "92013                       -21.774336                       -21.774336   \n",
            "92014                       -23.548824                       -23.548824   \n",
            "92015                       -22.850485                       -22.850485   \n",
            "\n",
            "          weekly  weekly_lower  weekly_upper  multiplicative_terms  \\\n",
            "92011  11.354101     11.354101     11.354101                   0.0   \n",
            "92012  -7.665739     -7.665739     -7.665739                   0.0   \n",
            "92013   2.362101      2.362101      2.362101                   0.0   \n",
            "92014  -4.977148     -4.977148     -4.977148                   0.0   \n",
            "92015  -1.476920     -1.476920     -1.476920                   0.0   \n",
            "\n",
            "       multiplicative_terms_lower  multiplicative_terms_upper          yhat  \n",
            "92011                         0.0                         0.0  57207.973277  \n",
            "92012                         0.0                         0.0  57202.537758  \n",
            "92013                         0.0                         0.0  57210.713792  \n",
            "92014                         0.0                         0.0  57202.240881  \n",
            "92015                         0.0                         0.0  57207.080275  \n",
            "\n",
            "[5 rows x 31 columns]\n"
          ]
        }
      ]
    },
    {
      "cell_type": "code",
      "source": [],
      "metadata": {
        "id": "sNHYXDGX4gPM"
      },
      "execution_count": null,
      "outputs": []
    }
  ]
}